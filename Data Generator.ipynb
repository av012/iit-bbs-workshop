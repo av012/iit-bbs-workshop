{
 "cells": [
  {
   "cell_type": "code",
   "execution_count": 14,
   "metadata": {},
   "outputs": [],
   "source": [
    "import numpy as np\n",
    "import matplotlib.pyplot as plt"
   ]
  },
  {
   "cell_type": "code",
   "execution_count": 19,
   "metadata": {},
   "outputs": [],
   "source": [
    "x_unif = np.random.random(1000)\n",
    "#print(x)"
   ]
  },
  {
   "cell_type": "code",
   "execution_count": 25,
   "metadata": {},
   "outputs": [],
   "source": [
    "x_normal = np.random.randn(1000)\n",
    "#print(x)"
   ]
  },
  {
   "cell_type": "code",
   "execution_count": 26,
   "metadata": {},
   "outputs": [
    {
     "data": {
      "image/png": "[encoded data removed]",
      "text/plain": [
       "<Figure size 432x288 with 1 Axes>"
      ]
     },
     "metadata": {
      "needs_background": "light"
     },
     "output_type": "display_data"
    }
   ],
   "source": [
    "plt.hist(x_unif)\n",
    "plt.show()"
   ]
  },
  {
   "cell_type": "code",
   "execution_count": 23,
   "metadata": {},
   "outputs": [
    {
     "data": {
      "image/png": "[encoded data removed]",
      "text/plain": [
       "<Figure size 432x288 with 1 Axes>"
      ]
     },
     "metadata": {
      "needs_background": "light"
     },
     "output_type": "display_data"
    }
   ],
   "source": [
    "plt.hist(x_normal)\n",
    "plt.show()"
   ]
  },
  {
   "cell_type": "code",
   "execution_count": 28,
   "metadata": {},
   "outputs": [
    {
     "name": "stdout",
     "output_type": "stream",
     "text": [
      "[51. 42. 65. 65. 42. 56. 53. 60. 49. 61. 58. 57. 59. 52. 46. 54. 59. 67.\n",
      " 70. 64. 70. 47. 55. 55. 62. 55. 59. 32. 67. 94. 66. 65. 59. 60. 63. 59.\n",
      " 55. 48. 47. 53. 72. 60. 41. 57. 59. 45. 65. 50. 75. 77. 56. 56. 66. 61.\n",
      " 63. 66. 60. 79. 62. 56. 70. 78. 60. 65. 69. 67. 44. 79. 71. 79. 57. 67.\n",
      " 76. 66. 49. 66. 50. 71. 70. 68. 37. 62. 67. 41. 73. 70. 59. 51. 64. 47.\n",
      " 52. 44. 69. 70. 63. 51. 65. 77. 58. 53. 54. 66. 62. 76. 69. 49. 60. 63.\n",
      " 58. 63. 73. 79. 50. 55. 69. 72. 53. 49. 57. 55. 64. 44. 78. 32. 48. 65.\n",
      " 65. 46. 66. 54. 50. 51. 69. 48. 63. 57. 63. 83. 62. 63. 65. 46. 45. 54.\n",
      " 67. 67. 67. 61. 75. 57. 58. 51. 75. 52. 59. 57. 85. 43. 83. 48. 53. 45.\n",
      " 52. 62. 71. 57. 39. 68. 41. 50. 64. 62. 60. 72. 64. 61. 61. 71. 63. 67.\n",
      " 47. 81. 60. 50. 84. 63. 70. 46. 52. 52. 57. 69. 76. 72. 64. 64. 67. 61.\n",
      " 51. 45. 60. 45. 50. 66. 75. 67. 72. 69. 77. 46. 60. 45. 78. 47. 65. 62.\n",
      " 54. 55. 56. 73. 52. 56. 66. 70. 51. 80. 64. 62. 55. 60. 43. 61. 50. 44.\n",
      " 63. 55. 61. 60. 59. 71. 50. 52. 66. 56. 56. 34. 61. 67. 59. 54. 45. 82.\n",
      " 70. 54. 57. 41. 60. 68. 60. 76. 66. 63. 68. 75. 51. 65. 49. 71. 67. 44.\n",
      " 72. 66. 73. 40. 84. 54. 49. 58. 63. 63. 71. 48. 65. 50. 46. 81. 54. 58.\n",
      " 46. 73. 57. 48. 49. 51. 44. 63. 59. 47. 77. 53. 63. 68. 76. 66. 68. 73.\n",
      " 47. 59. 50. 49. 63. 61. 70. 73. 58. 76. 40. 67. 52. 76. 66. 66. 58. 64.\n",
      " 63. 60. 61. 64. 61. 51. 57. 56. 50. 49. 44. 46. 78. 62. 52. 66. 59. 67.\n",
      " 56. 72. 56. 63. 71. 62. 72. 61. 54. 63. 60. 66. 46. 56. 66. 47. 49. 57.\n",
      " 60. 78. 64. 69. 51. 60. 49. 65. 72. 51. 33. 59. 63. 57. 61. 69. 52. 57.\n",
      " 73. 62. 43. 50. 75. 58. 77. 61. 63. 50. 70. 60. 62. 67. 58. 49. 59. 61.\n",
      " 72. 70. 47. 65. 53. 49. 77. 63. 33. 49. 68. 38. 51. 57. 75. 53. 65. 57.\n",
      " 55. 72. 49. 64. 44. 65. 66. 62. 52. 37. 63. 63. 44. 68. 53. 61. 72. 61.\n",
      " 45. 56. 61. 81. 79. 66. 52. 57. 58. 49. 55. 72. 61. 56. 64. 51. 62. 81.\n",
      " 74. 51. 66. 58. 50. 62. 62. 71. 49. 69. 64. 57. 70. 57. 56. 62. 57. 54.\n",
      " 50. 80. 48. 67. 81. 63. 44. 44. 47. 80. 67. 60. 57. 57. 69. 65. 71. 70.\n",
      " 68. 56. 59. 78. 51. 52. 60. 46. 55. 58. 69. 66. 73. 53. 50. 47. 78. 57.\n",
      " 51. 56. 61. 58. 41. 65. 47. 68. 54. 52. 51. 47. 53. 75. 47. 67. 57. 68.\n",
      " 62. 56. 62. 52. 74. 57. 52. 77. 52. 64. 75. 52. 55. 52. 82. 48. 56. 55.\n",
      " 42. 66. 83. 63. 52. 68. 45. 51. 56. 45. 54. 66. 57. 55. 57. 61. 60. 57.\n",
      " 59. 79. 55. 61. 78. 48. 55. 60. 66. 63. 55. 74. 64. 47. 58. 71. 81. 63.\n",
      " 52. 47. 69. 44. 65. 36. 63. 56. 62. 58. 71. 47. 60. 66. 53. 58. 57. 63.\n",
      " 75. 69. 71. 72. 55. 64. 48. 80. 41. 68. 66. 41. 36. 76. 51. 68. 34. 60.\n",
      " 63. 70. 47. 74. 62. 62. 56. 55. 70. 76. 58. 50. 61. 71. 56. 53. 69. 59.\n",
      " 55. 66. 53. 55. 57. 70. 57. 69. 47. 60. 67. 54. 64. 67. 60. 59. 42. 59.\n",
      " 62. 60. 87. 53. 61. 45. 42. 59. 56. 52. 56. 48. 67. 60. 70. 78. 65. 59.\n",
      " 65. 62. 69. 59. 56. 65. 67. 64. 62. 67. 50. 57. 55. 52. 53. 65. 41. 54.\n",
      " 58. 58. 76. 64. 41. 50. 52. 57. 70. 75. 67. 45. 63. 68. 52. 61. 58. 62.\n",
      " 56. 54. 66. 61. 63. 72. 59. 56. 60. 43. 63. 59. 62. 70. 57. 45. 65. 69.\n",
      " 48. 63. 85. 57. 67. 56. 59. 57. 63. 59. 45. 70. 59. 50. 61. 46. 66. 56.\n",
      " 66. 55. 66. 67. 40. 74. 77. 52. 51. 56. 48. 47. 70. 63. 53. 46. 45. 50.\n",
      " 62. 81. 47. 65. 59. 36. 63. 66. 59. 59. 46. 58. 60. 56. 56. 47. 51. 76.\n",
      " 71. 61. 59. 92. 73. 66. 56. 65. 56. 76. 53. 76. 64. 72. 60. 59. 47. 73.\n",
      " 50. 65. 64. 58. 41. 62. 67. 66. 64. 67. 61. 68. 42. 62. 61. 71. 57. 77.\n",
      " 59. 63. 78. 59. 69. 65. 49. 52. 61. 61. 69. 69. 69. 64. 71. 54. 54. 69.\n",
      " 61. 58. 39. 67. 64. 57. 60. 54. 65. 68. 53. 54. 66. 53. 47. 71. 58. 61.\n",
      " 77. 47. 89. 66. 61. 65. 61. 76. 64. 60. 65. 43. 77. 42. 43. 64. 52. 64.\n",
      " 59. 42. 68. 65. 66. 63. 82. 67. 66. 68. 54. 72. 56. 66. 46. 56. 47. 56.\n",
      " 56. 56. 69. 51. 59. 73. 77. 66. 67. 72. 61. 63. 62. 67. 72. 62. 57. 40.\n",
      " 54. 65. 58. 60. 61. 63. 48. 80. 76. 81. 64. 70. 63. 64. 51. 47. 62. 58.\n",
      " 71. 58. 49. 54. 42. 70. 69. 36. 56. 53. 80. 75. 49. 56. 55. 57. 61. 74.\n",
      " 55. 57. 59. 76. 80. 64. 71. 64. 75. 77. 71. 64. 58. 76. 59. 84. 47. 67.\n",
      " 68. 53. 60. 49. 72. 75. 37. 46. 55. 68. 54. 64. 45. 76. 57. 65. 56. 63.\n",
      " 55. 37. 51. 55. 75. 57. 53. 73. 60. 63. 58. 66. 69. 60. 54. 63. 57. 58.\n",
      " 61. 62. 59. 74. 56. 62. 52. 59. 64. 64.]\n"
     ]
    }
   ],
   "source": [
    "marks = x_normal*10 + 60\n",
    "print(np.round(marks))"
   ]
  },
  {
   "cell_type": "code",
   "execution_count": 29,
   "metadata": {},
   "outputs": [
    {
     "data": {
      "text/plain": [
       "60.238401646459856"
      ]
     },
     "execution_count": 29,
     "metadata": {},
     "output_type": "execute_result"
    }
   ],
   "source": [
    "np.mean(marks)"
   ]
  },
  {
   "cell_type": "code",
   "execution_count": 30,
   "metadata": {},
   "outputs": [
    {
     "data": {
      "text/plain": [
       "10.123597932282989"
      ]
     },
     "execution_count": 30,
     "metadata": {},
     "output_type": "execute_result"
    }
   ],
   "source": [
    "np.std(marks)"
   ]
  },
  {
   "cell_type": "code",
   "execution_count": 54,
   "metadata": {},
   "outputs": [],
   "source": [
    "# Generate & Save Data\n",
    "\n",
    "x_hardwork = np.random.randn(100)\n",
    "y_marks  = 5*x_hardwork + 3 + 0.5*np.random.randn(100)\n"
   ]
  },
  {
   "cell_type": "code",
   "execution_count": 55,
   "metadata": {},
   "outputs": [
    {
     "data": {
      "image/png": "[encoded data removed]",
      "text/plain": [
       "<Figure size 432x288 with 1 Axes>"
      ]
     },
     "metadata": {
      "needs_background": "light"
     },
     "output_type": "display_data"
    }
   ],
   "source": [
    "plt.scatter(x_hardwork,y_marks)\n",
    "plt.show()"
   ]
  },
  {
   "cell_type": "code",
   "execution_count": 56,
   "metadata": {},
   "outputs": [],
   "source": [
    "np.save(\"LinearX.npy\",x_hardwork)\n",
    "np.save(\"LinearY.npy\",y_marks)"
   ]
  },
  {
   "cell_type": "code",
   "execution_count": null,
   "metadata": {},
   "outputs": [],
   "source": []
  }
 ],
 "metadata": {
  "kernelspec": {
   "display_name": "Python 3",
   "language": "python",
   "name": "python3"
  },
  "language_info": {
   "codemirror_mode": {
    "name": "ipython",
    "version": 3
   },
   "file_extension": ".py",
   "mimetype": "text/x-python",
   "name": "python",
   "nbconvert_exporter": "python",
   "pygments_lexer": "ipython3",
   "version": "3.7.3"
  }
 },
 "nbformat": 4,
 "nbformat_minor": 2
}
